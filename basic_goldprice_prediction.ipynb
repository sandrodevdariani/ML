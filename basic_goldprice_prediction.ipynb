{
  "nbformat": 4,
  "nbformat_minor": 0,
  "metadata": {
    "colab": {
      "name": "Untitled1.ipynb",
      "provenance": [],
      "mount_file_id": "1mewP8EAbaASlADogKZrnn2s-27L9LE_S",
      "authorship_tag": "ABX9TyPILgldxKckeQCetWKbV/RV",
      "include_colab_link": true
    },
    "kernelspec": {
      "name": "python3",
      "display_name": "Python 3"
    },
    "language_info": {
      "name": "python"
    }
  },
  "cells": [
    {
      "cell_type": "markdown",
      "metadata": {
        "id": "view-in-github",
        "colab_type": "text"
      },
      "source": [
        "<a href=\"https://colab.research.google.com/github/sandrodevdariani/ML/blob/main/basic_goldprice_prediction.ipynb\" target=\"_parent\"><img src=\"https://colab.research.google.com/assets/colab-badge.svg\" alt=\"Open In Colab\"/></a>"
      ]
    },
    {
      "cell_type": "code",
      "execution_count": 2,
      "metadata": {
        "id": "w-CSgZGZAiur"
      },
      "outputs": [],
      "source": [
        "import numpy as np\n",
        "import pandas as pd\n",
        "import matplotlib.pyplot as plt\n",
        "import seaborn as sns\n",
        "from sklearn.model_selection import train_test_split\n",
        "from sklearn.ensemble import RandomForestRegressor\n",
        "from sklearn import metrics"
      ]
    },
    {
      "cell_type": "code",
      "source": [
        "gold_data = pd.read_csv('/content/gld_price_data.csv')"
      ],
      "metadata": {
        "id": "q0xhgeulBTBe"
      },
      "execution_count": 7,
      "outputs": []
    },
    {
      "cell_type": "code",
      "source": [
        "gold_data.shape"
      ],
      "metadata": {
        "colab": {
          "base_uri": "https://localhost:8080/"
        },
        "id": "IVs-WzhzCkfZ",
        "outputId": "0f040c4f-32dc-4c17-b261-407b26214460"
      },
      "execution_count": 8,
      "outputs": [
        {
          "output_type": "execute_result",
          "data": {
            "text/plain": [
              "(2290, 6)"
            ]
          },
          "metadata": {},
          "execution_count": 8
        }
      ]
    },
    {
      "cell_type": "code",
      "source": [
        "gold_data.describe()"
      ],
      "metadata": {
        "colab": {
          "base_uri": "https://localhost:8080/",
          "height": 297
        },
        "id": "vp_ZtZWWCt_w",
        "outputId": "3f44766f-72b7-44a7-fd34-f48d1e2db6b2"
      },
      "execution_count": 9,
      "outputs": [
        {
          "output_type": "execute_result",
          "data": {
            "text/plain": [
              "               SPX          GLD          USO          SLV      EUR/USD\n",
              "count  2290.000000  2290.000000  2290.000000  2290.000000  2290.000000\n",
              "mean   1654.315776   122.732875    31.842221    20.084997     1.283653\n",
              "std     519.111540    23.283346    19.523517     7.092566     0.131547\n",
              "min     676.530029    70.000000     7.960000     8.850000     1.039047\n",
              "25%    1239.874969   109.725000    14.380000    15.570000     1.171313\n",
              "50%    1551.434998   120.580002    33.869999    17.268500     1.303297\n",
              "75%    2073.010070   132.840004    37.827501    22.882500     1.369971\n",
              "max    2872.870117   184.589996   117.480003    47.259998     1.598798"
            ],
            "text/html": [
              "\n",
              "  <div id=\"df-05f1ecae-b54f-4559-bb0a-4addfea97742\">\n",
              "    <div class=\"colab-df-container\">\n",
              "      <div>\n",
              "<style scoped>\n",
              "    .dataframe tbody tr th:only-of-type {\n",
              "        vertical-align: middle;\n",
              "    }\n",
              "\n",
              "    .dataframe tbody tr th {\n",
              "        vertical-align: top;\n",
              "    }\n",
              "\n",
              "    .dataframe thead th {\n",
              "        text-align: right;\n",
              "    }\n",
              "</style>\n",
              "<table border=\"1\" class=\"dataframe\">\n",
              "  <thead>\n",
              "    <tr style=\"text-align: right;\">\n",
              "      <th></th>\n",
              "      <th>SPX</th>\n",
              "      <th>GLD</th>\n",
              "      <th>USO</th>\n",
              "      <th>SLV</th>\n",
              "      <th>EUR/USD</th>\n",
              "    </tr>\n",
              "  </thead>\n",
              "  <tbody>\n",
              "    <tr>\n",
              "      <th>count</th>\n",
              "      <td>2290.000000</td>\n",
              "      <td>2290.000000</td>\n",
              "      <td>2290.000000</td>\n",
              "      <td>2290.000000</td>\n",
              "      <td>2290.000000</td>\n",
              "    </tr>\n",
              "    <tr>\n",
              "      <th>mean</th>\n",
              "      <td>1654.315776</td>\n",
              "      <td>122.732875</td>\n",
              "      <td>31.842221</td>\n",
              "      <td>20.084997</td>\n",
              "      <td>1.283653</td>\n",
              "    </tr>\n",
              "    <tr>\n",
              "      <th>std</th>\n",
              "      <td>519.111540</td>\n",
              "      <td>23.283346</td>\n",
              "      <td>19.523517</td>\n",
              "      <td>7.092566</td>\n",
              "      <td>0.131547</td>\n",
              "    </tr>\n",
              "    <tr>\n",
              "      <th>min</th>\n",
              "      <td>676.530029</td>\n",
              "      <td>70.000000</td>\n",
              "      <td>7.960000</td>\n",
              "      <td>8.850000</td>\n",
              "      <td>1.039047</td>\n",
              "    </tr>\n",
              "    <tr>\n",
              "      <th>25%</th>\n",
              "      <td>1239.874969</td>\n",
              "      <td>109.725000</td>\n",
              "      <td>14.380000</td>\n",
              "      <td>15.570000</td>\n",
              "      <td>1.171313</td>\n",
              "    </tr>\n",
              "    <tr>\n",
              "      <th>50%</th>\n",
              "      <td>1551.434998</td>\n",
              "      <td>120.580002</td>\n",
              "      <td>33.869999</td>\n",
              "      <td>17.268500</td>\n",
              "      <td>1.303297</td>\n",
              "    </tr>\n",
              "    <tr>\n",
              "      <th>75%</th>\n",
              "      <td>2073.010070</td>\n",
              "      <td>132.840004</td>\n",
              "      <td>37.827501</td>\n",
              "      <td>22.882500</td>\n",
              "      <td>1.369971</td>\n",
              "    </tr>\n",
              "    <tr>\n",
              "      <th>max</th>\n",
              "      <td>2872.870117</td>\n",
              "      <td>184.589996</td>\n",
              "      <td>117.480003</td>\n",
              "      <td>47.259998</td>\n",
              "      <td>1.598798</td>\n",
              "    </tr>\n",
              "  </tbody>\n",
              "</table>\n",
              "</div>\n",
              "      <button class=\"colab-df-convert\" onclick=\"convertToInteractive('df-05f1ecae-b54f-4559-bb0a-4addfea97742')\"\n",
              "              title=\"Convert this dataframe to an interactive table.\"\n",
              "              style=\"display:none;\">\n",
              "        \n",
              "  <svg xmlns=\"http://www.w3.org/2000/svg\" height=\"24px\"viewBox=\"0 0 24 24\"\n",
              "       width=\"24px\">\n",
              "    <path d=\"M0 0h24v24H0V0z\" fill=\"none\"/>\n",
              "    <path d=\"M18.56 5.44l.94 2.06.94-2.06 2.06-.94-2.06-.94-.94-2.06-.94 2.06-2.06.94zm-11 1L8.5 8.5l.94-2.06 2.06-.94-2.06-.94L8.5 2.5l-.94 2.06-2.06.94zm10 10l.94 2.06.94-2.06 2.06-.94-2.06-.94-.94-2.06-.94 2.06-2.06.94z\"/><path d=\"M17.41 7.96l-1.37-1.37c-.4-.4-.92-.59-1.43-.59-.52 0-1.04.2-1.43.59L10.3 9.45l-7.72 7.72c-.78.78-.78 2.05 0 2.83L4 21.41c.39.39.9.59 1.41.59.51 0 1.02-.2 1.41-.59l7.78-7.78 2.81-2.81c.8-.78.8-2.07 0-2.86zM5.41 20L4 18.59l7.72-7.72 1.47 1.35L5.41 20z\"/>\n",
              "  </svg>\n",
              "      </button>\n",
              "      \n",
              "  <style>\n",
              "    .colab-df-container {\n",
              "      display:flex;\n",
              "      flex-wrap:wrap;\n",
              "      gap: 12px;\n",
              "    }\n",
              "\n",
              "    .colab-df-convert {\n",
              "      background-color: #E8F0FE;\n",
              "      border: none;\n",
              "      border-radius: 50%;\n",
              "      cursor: pointer;\n",
              "      display: none;\n",
              "      fill: #1967D2;\n",
              "      height: 32px;\n",
              "      padding: 0 0 0 0;\n",
              "      width: 32px;\n",
              "    }\n",
              "\n",
              "    .colab-df-convert:hover {\n",
              "      background-color: #E2EBFA;\n",
              "      box-shadow: 0px 1px 2px rgba(60, 64, 67, 0.3), 0px 1px 3px 1px rgba(60, 64, 67, 0.15);\n",
              "      fill: #174EA6;\n",
              "    }\n",
              "\n",
              "    [theme=dark] .colab-df-convert {\n",
              "      background-color: #3B4455;\n",
              "      fill: #D2E3FC;\n",
              "    }\n",
              "\n",
              "    [theme=dark] .colab-df-convert:hover {\n",
              "      background-color: #434B5C;\n",
              "      box-shadow: 0px 1px 3px 1px rgba(0, 0, 0, 0.15);\n",
              "      filter: drop-shadow(0px 1px 2px rgba(0, 0, 0, 0.3));\n",
              "      fill: #FFFFFF;\n",
              "    }\n",
              "  </style>\n",
              "\n",
              "      <script>\n",
              "        const buttonEl =\n",
              "          document.querySelector('#df-05f1ecae-b54f-4559-bb0a-4addfea97742 button.colab-df-convert');\n",
              "        buttonEl.style.display =\n",
              "          google.colab.kernel.accessAllowed ? 'block' : 'none';\n",
              "\n",
              "        async function convertToInteractive(key) {\n",
              "          const element = document.querySelector('#df-05f1ecae-b54f-4559-bb0a-4addfea97742');\n",
              "          const dataTable =\n",
              "            await google.colab.kernel.invokeFunction('convertToInteractive',\n",
              "                                                     [key], {});\n",
              "          if (!dataTable) return;\n",
              "\n",
              "          const docLinkHtml = 'Like what you see? Visit the ' +\n",
              "            '<a target=\"_blank\" href=https://colab.research.google.com/notebooks/data_table.ipynb>data table notebook</a>'\n",
              "            + ' to learn more about interactive tables.';\n",
              "          element.innerHTML = '';\n",
              "          dataTable['output_type'] = 'display_data';\n",
              "          await google.colab.output.renderOutput(dataTable, element);\n",
              "          const docLink = document.createElement('div');\n",
              "          docLink.innerHTML = docLinkHtml;\n",
              "          element.appendChild(docLink);\n",
              "        }\n",
              "      </script>\n",
              "    </div>\n",
              "  </div>\n",
              "  "
            ]
          },
          "metadata": {},
          "execution_count": 9
        }
      ]
    },
    {
      "cell_type": "code",
      "source": [
        "correlation = gold_data.corr()"
      ],
      "metadata": {
        "id": "m6TOms48Db1B"
      },
      "execution_count": 11,
      "outputs": []
    },
    {
      "cell_type": "code",
      "source": [
        "plt.figure(figsize=(8,8))\n",
        "sns.heatmap(correlation, cbar=True, square=True, fmt ='.1f', annot=True, annot_kws={'size':8}, cmap='Blues')"
      ],
      "metadata": {
        "colab": {
          "base_uri": "https://localhost:8080/",
          "height": 487
        },
        "id": "HFxdwPkADpMy",
        "outputId": "e356afdb-7d6c-4f6d-ecbe-aaeded404779"
      },
      "execution_count": 12,
      "outputs": [
        {
          "output_type": "execute_result",
          "data": {
            "text/plain": [
              "<matplotlib.axes._subplots.AxesSubplot at 0x7f015e8f03d0>"
            ]
          },
          "metadata": {},
          "execution_count": 12
        },
        {
          "output_type": "display_data",
          "data": {
            "text/plain": [
              "<Figure size 576x576 with 2 Axes>"
            ],
            "image/png": "[encoded data removed]"
          },
          "metadata": {
            "needs_background": "light"
          }
        }
      ]
    },
    {
      "cell_type": "code",
      "source": [
        "print(correlation['GLD'])"
      ],
      "metadata": {
        "colab": {
          "base_uri": "https://localhost:8080/"
        },
        "id": "x1EW4-M1E82f",
        "outputId": "cbcce909-45da-465a-c040-26ed2dc1d13e"
      },
      "execution_count": 13,
      "outputs": [
        {
          "output_type": "stream",
          "name": "stdout",
          "text": [
            "SPX        0.049345\n",
            "GLD        1.000000\n",
            "USO       -0.186360\n",
            "SLV        0.866632\n",
            "EUR/USD   -0.024375\n",
            "Name: GLD, dtype: float64\n"
          ]
        }
      ]
    },
    {
      "cell_type": "code",
      "source": [
        "#distrubution of GLD\n",
        "sns.distplot(gold_data[\"GLD\"], color = 'red')"
      ],
      "metadata": {
        "colab": {
          "base_uri": "https://localhost:8080/",
          "height": 354
        },
        "id": "KvhrjtjhFJMB",
        "outputId": "08305eaa-96ff-465f-e704-e499d97ecb40"
      },
      "execution_count": 14,
      "outputs": [
        {
          "output_type": "stream",
          "name": "stderr",
          "text": [
            "/usr/local/lib/python3.7/dist-packages/seaborn/distributions.py:2619: FutureWarning: `distplot` is a deprecated function and will be removed in a future version. Please adapt your code to use either `displot` (a figure-level function with similar flexibility) or `histplot` (an axes-level function for histograms).\n",
            "  warnings.warn(msg, FutureWarning)\n"
          ]
        },
        {
          "output_type": "execute_result",
          "data": {
            "text/plain": [
              "<matplotlib.axes._subplots.AxesSubplot at 0x7f0159b9f6d0>"
            ]
          },
          "metadata": {},
          "execution_count": 14
        },
        {
          "output_type": "display_data",
          "data": {
            "text/plain": [
              "<Figure size 432x288 with 1 Axes>"
            ],
            "image/png": "[encoded data removed]"
          },
          "metadata": {
            "needs_background": "light"
          }
        }
      ]
    },
    {
      "cell_type": "code",
      "source": [
        "X = gold_data.drop([\"Date\", \"GLD\"],axis=1)\n",
        "Y = gold_data['GLD']\n"
      ],
      "metadata": {
        "id": "NQiS_Z2yF5yK"
      },
      "execution_count": 22,
      "outputs": []
    },
    {
      "cell_type": "code",
      "source": [
        "print(X)"
      ],
      "metadata": {
        "colab": {
          "base_uri": "https://localhost:8080/"
        },
        "id": "2eNhKbkVIJBU",
        "outputId": "4172a1e2-a662-4f0b-8168-768d57479bf2"
      },
      "execution_count": 23,
      "outputs": [
        {
          "output_type": "stream",
          "name": "stdout",
          "text": [
            "              SPX        USO      SLV   EUR/USD\n",
            "0     1447.160034  78.470001  15.1800  1.471692\n",
            "1     1447.160034  78.370003  15.2850  1.474491\n",
            "2     1411.630005  77.309998  15.1670  1.475492\n",
            "3     1416.180054  75.500000  15.0530  1.468299\n",
            "4     1390.189941  76.059998  15.5900  1.557099\n",
            "...           ...        ...      ...       ...\n",
            "2285  2671.919922  14.060000  15.5100  1.186789\n",
            "2286  2697.790039  14.370000  15.5300  1.184722\n",
            "2287  2723.070068  14.410000  15.7400  1.191753\n",
            "2288  2730.129883  14.380000  15.5600  1.193118\n",
            "2289  2725.780029  14.405800  15.4542  1.182033\n",
            "\n",
            "[2290 rows x 4 columns]\n"
          ]
        }
      ]
    },
    {
      "cell_type": "code",
      "source": [
        "print(Y)"
      ],
      "metadata": {
        "colab": {
          "base_uri": "https://localhost:8080/"
        },
        "id": "a9pPrspqIMN8",
        "outputId": "5e713e99-59b7-4555-aefe-864686a6eb43"
      },
      "execution_count": 24,
      "outputs": [
        {
          "output_type": "stream",
          "name": "stdout",
          "text": [
            "0        84.860001\n",
            "1        85.570000\n",
            "2        85.129997\n",
            "3        84.769997\n",
            "4        86.779999\n",
            "           ...    \n",
            "2285    124.589996\n",
            "2286    124.330002\n",
            "2287    125.180000\n",
            "2288    124.489998\n",
            "2289    122.543800\n",
            "Name: GLD, Length: 2290, dtype: float64\n"
          ]
        }
      ]
    },
    {
      "cell_type": "code",
      "source": [
        "X_train, X_test, Y_train, Y_test = train_test_split(X, Y, test_size = 0.2, random_state=2)"
      ],
      "metadata": {
        "id": "xXu1vASyGS17"
      },
      "execution_count": 26,
      "outputs": []
    },
    {
      "cell_type": "code",
      "source": [
        "#random forest reggresion\n",
        "regressor = RandomForestRegressor(n_estimators=100)"
      ],
      "metadata": {
        "id": "yIgX7UzAHs6f"
      },
      "execution_count": 19,
      "outputs": []
    },
    {
      "cell_type": "code",
      "source": [
        "regressor.fit(X_train,Y_train)"
      ],
      "metadata": {
        "colab": {
          "base_uri": "https://localhost:8080/"
        },
        "id": "jX96fKiXH0m0",
        "outputId": "409dbf7e-1fa2-4669-c6b4-17e647147efa"
      },
      "execution_count": 28,
      "outputs": [
        {
          "output_type": "execute_result",
          "data": {
            "text/plain": [
              "RandomForestRegressor()"
            ]
          },
          "metadata": {},
          "execution_count": 28
        }
      ]
    },
    {
      "cell_type": "code",
      "source": [
        "test_data_prediction = regressor.predict(X_test)\n",
        "print(test_data_prediction)"
      ],
      "metadata": {
        "colab": {
          "base_uri": "https://localhost:8080/"
        },
        "id": "lxmYpcEaJJmk",
        "outputId": "682c6862-550c-4648-900d-0b3277ad2e65"
      },
      "execution_count": 29,
      "outputs": [
        {
          "output_type": "stream",
          "name": "stdout",
          "text": [
            "[168.72189956  82.1730997  116.07730026 127.74700063 120.70200101\n",
            " 154.77249818 150.08249815 126.17910064 117.41529886 125.97010103\n",
            " 116.79500095 171.19360108 141.72189928 167.92139887 115.07740013\n",
            " 117.27240073 138.06860354 170.32530139 159.8962029  159.90589957\n",
            " 155.2194004  125.16340009 175.6543008  157.85430241 125.25610069\n",
            "  93.71429984  77.24379995 120.55219979 119.18800006 167.48370035\n",
            "  88.03880033 124.90669989  91.2381009  117.78050041 121.07409928\n",
            " 136.16780048 115.67830109 115.35130084 148.51799945 107.34780105\n",
            " 104.15080235  87.03149798 126.52440035 118.14399986 153.41989949\n",
            " 119.72420027 108.35499982 107.91169842  93.07330041 127.16759756\n",
            "  75.0912002  113.59499911 121.1385001  111.31019898 118.88449899\n",
            " 120.91119939 158.62210102 166.93070127 146.95479704  86.00449845\n",
            "  94.36340038  86.85029876  90.60490044 118.83090069 126.47860062\n",
            " 127.50239977 170.00509977 122.32459922 117.35899938  98.3084998\n",
            " 168.09930014 142.88609794 132.44610234 121.22320193 121.89329939\n",
            " 119.80510064 114.56330187 117.96640073 107.16620091 127.97140111\n",
            " 113.79799977 107.46179996 116.69050073 119.62519882  89.12970048\n",
            "  88.22379867 147.2478029  127.21789949 113.65480032 109.61679846\n",
            " 108.25419893  77.51249917 169.44330139 114.09759919 121.70989886\n",
            " 128.06250132 154.92349749  91.64529951 136.02620118 158.07760296\n",
            " 125.60460041 125.43230074 130.74070143 115.03050132 119.94919973\n",
            "  92.1128997  110.14849906 167.99459911 156.10179934 114.16639952\n",
            " 106.79220104  79.62129997 113.31600048 125.84900083 107.09369937\n",
            " 119.19710081 156.21050341 159.99559914 120.66179957 134.37590313\n",
            " 101.64069989 117.40229807 119.4519003  112.94640105 102.76979919\n",
            " 160.27299818  98.6587003  147.63399846 125.48040094 170.21499868\n",
            " 126.0323983  127.30969766 127.62800268 113.78939907 113.02400081\n",
            " 123.34609881 102.15869882  89.18269995 124.44959952 101.4170997\n",
            " 107.01799903 113.30120071 116.99590059  98.64749922 121.81520019\n",
            " 163.72609856  87.31159881 106.63659972 117.28830056 127.6971015\n",
            " 124.0306006   80.8603989  120.41900083 159.2590982   87.93909986\n",
            " 110.39029911 119.10539934 171.83769924 103.08969896 105.5498003\n",
            " 122.45620031 159.46839795  87.65449841  93.66160022 112.65840048\n",
            " 176.92969975 114.94169988 119.4047003   94.69170115 125.64240037\n",
            " 166.22400086 114.91100094 116.96200123  88.33099869 149.55580153\n",
            " 120.26949943  89.54039992 111.7275     117.23290049 118.90940122\n",
            "  88.21999972  94.14640025 116.72609995 118.61900199 120.2650999\n",
            " 126.67809826 121.86659976 150.7796997  165.85920044 118.54499957\n",
            " 120.4365015  150.77710094 118.39719882 171.80539865 105.58439938\n",
            " 105.06690113 149.85350158 113.60680097 124.82120124 147.91299993\n",
            " 119.63180136 115.26370058 112.06109995 113.5622018  141.7644009\n",
            " 118.00179746 102.95270031 115.803201   103.55650168  98.48890022\n",
            " 117.51730066  90.6943001   91.62360062 153.44629919 102.72639955\n",
            " 154.39030099 114.1977017  138.55750121  90.31999846 115.49469959\n",
            " 114.65049983 122.46520064 121.83750031 165.40840131  92.90689951\n",
            " 135.23930178 121.41869925 120.69300059 104.63439981 142.96370279\n",
            " 121.81929928 116.49560035 113.82210075 127.06419729 122.45769961\n",
            " 126.01629922 121.32690016  86.90359912 132.32300203 145.42110105\n",
            "  92.7052991  158.34979884 158.53640221 126.33909893 165.19069917\n",
            " 108.90069979 109.43800101 103.63429823  94.41880087 127.7049026\n",
            " 106.91480071 160.21979944 121.84150011 131.95680101 130.72330185\n",
            " 160.66929988  90.12349821 174.95520165 127.5259     126.82459866\n",
            "  86.51309921 124.6388998  150.07229702  89.65690017 106.81249964\n",
            " 109.00719987  84.88059862 135.90299967 155.05970168 139.51510334\n",
            "  73.9527002  152.14370116 126.18169963 126.77329992 127.45609894\n",
            " 108.66029937 156.43700006 114.48650125 116.94060121 125.3095994\n",
            " 154.12090175 121.25529968 156.39349856  92.91510026 125.52430113\n",
            " 125.99380068  87.91830065  91.91869943 126.05019976 128.1977031\n",
            " 113.19640032 117.50899715 120.7462001  127.1608973  120.05080124\n",
            " 135.95200042  93.91169989 120.07900056 113.17830101  94.28309928\n",
            " 108.93589963  87.34159902 109.07359959  89.78729964  92.42840032\n",
            " 131.75460329 162.48180106  89.24129999 119.543701   133.41340151\n",
            " 123.82150048 128.56420178 102.05049841  88.99279878 131.49590084\n",
            " 120.57370055 108.58770015 168.89940039 115.12740058  86.49779905\n",
            " 118.79470055  91.05029948 161.98160023 116.59730036 121.59049991\n",
            " 160.34899852 120.15369953 112.88649958 108.41719846 126.85380011\n",
            "  76.19690033 103.04029971 127.75070246 121.84409947  92.56340033\n",
            " 132.24070044 118.19990139 116.10419951 154.5967025  158.81280094\n",
            " 109.81509924 155.11329758 119.15250078 160.5939008  118.53110075\n",
            " 157.80529987 115.1031995  116.78270021 148.89589922 114.73180078\n",
            " 125.93949866 165.21199921 117.81840026 125.41089935 153.41000308\n",
            " 153.41100231 131.88420129 114.82980048 121.25450167 125.13540073\n",
            "  89.85960041 123.00729964 154.99740143 111.61839995 106.65169984\n",
            " 162.1823012  118.45340008 165.7139001  133.91340105 115.20859944\n",
            " 153.07149929 168.5559993  115.30980026 114.10830125 158.49899951\n",
            "  85.43619861 127.08050059 127.93660041 128.72920026 124.43760056\n",
            " 123.89600109  90.62080078 153.07559993  97.04799986 137.35349976\n",
            "  88.94959898 107.52700009 115.02570035 112.72320094 124.20759909\n",
            "  91.45039884 125.33530113 162.40209912 119.90209839 165.06880107\n",
            " 126.88569783 112.2662002  127.44149931  95.0529992   90.84180031\n",
            " 103.32279914 120.79270053  83.27259967 126.3120005  160.91420525\n",
            " 117.12750094 118.40560003 120.1241998  122.5981996  120.10070136\n",
            " 121.58850038 118.55290062 107.00979993 148.72410027 126.54639844\n",
            " 115.7011009   73.65939986 127.82290153 154.7496012  122.44239996\n",
            " 125.62910042  88.85310008 103.47619889 125.01580049 120.26030039\n",
            "  73.38600063 151.35870069 120.9769003  104.91600003  86.30199785\n",
            " 114.98619904 172.24299935 119.86450064 160.60649778 113.1198995\n",
            " 121.43240006 118.72650115  95.90509988 118.97740013 125.81420044\n",
            " 118.43379946  96.0079007  154.07100167 122.1994998  147.81860045\n",
            " 159.19750098 113.62550027 122.68969924 149.75379801 127.01510031\n",
            " 165.73810032 135.12829989 119.88649916 167.68249885 108.29759943\n",
            " 121.68189882 139.32890079 105.99339903]\n"
          ]
        }
      ]
    },
    {
      "cell_type": "code",
      "source": [
        "# R squared error\n",
        "\n",
        "error_score = metrics.r2_score(Y_test, test_data_prediction)\n",
        "print(error_score)"
      ],
      "metadata": {
        "colab": {
          "base_uri": "https://localhost:8080/"
        },
        "id": "dd3kwBhrJXMI",
        "outputId": "e1e4b443-9d4d-4864-8a00-7172a3943558"
      },
      "execution_count": 30,
      "outputs": [
        {
          "output_type": "stream",
          "name": "stdout",
          "text": [
            "0.9895688157114138\n"
          ]
        }
      ]
    },
    {
      "cell_type": "code",
      "source": [
        "Y_test = list(Y_test)"
      ],
      "metadata": {
        "id": "plodRrkmJ_cZ"
      },
      "execution_count": 31,
      "outputs": []
    },
    {
      "cell_type": "code",
      "source": [
        "plt.plot(Y_test, color=\"red\", label = \"actual value\")\n",
        "plt.plot(test_data_prediction, color = 'green', label = 'predicted value')\n",
        "plt.xlabel('number of values')\n",
        "plt.ylabel('gld price')\n",
        "plt.legend()\n",
        "plt.show"
      ],
      "metadata": {
        "colab": {
          "base_uri": "https://localhost:8080/",
          "height": 296
        },
        "id": "iCG6vL_EKCwj",
        "outputId": "44f644db-4bd0-49cc-e689-4dcf41d1f353"
      },
      "execution_count": 32,
      "outputs": [
        {
          "output_type": "execute_result",
          "data": {
            "text/plain": [
              "<function matplotlib.pyplot.show>"
            ]
          },
          "metadata": {},
          "execution_count": 32
        },
        {
          "output_type": "display_data",
          "data": {
            "text/plain": [
              "<Figure size 432x288 with 1 Axes>"
            ],
            "image/png": "[encoded data removed]"
          },
          "metadata": {
            "needs_background": "light"
          }
        }
      ]
    }
  ]
}